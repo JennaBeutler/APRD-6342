{
  "nbformat": 4,
  "nbformat_minor": 0,
  "metadata": {
    "colab": {
      "name": "Exercise 4: Using CensusReporter to make geographic selections .ipynb",
      "provenance": [],
      "include_colab_link": true
    },
    "kernelspec": {
      "name": "python3",
      "display_name": "Python 3"
    }
  },
  "cells": [
    {
      "cell_type": "markdown",
      "metadata": {
        "id": "view-in-github",
        "colab_type": "text"
      },
      "source": [
        "<a href=\"https://colab.research.google.com/github/JennaBeutler/APRD-6342/blob/master/Exercise_4_Using_CensusReporter_to_make_geographic_selections_.ipynb\" target=\"_parent\"><img src=\"https://colab.research.google.com/assets/colab-badge.svg\" alt=\"Open In Colab\"/></a>"
      ]
    },
    {
      "cell_type": "markdown",
      "metadata": {
        "id": "KXU6sY0TkPcI",
        "colab_type": "text"
      },
      "source": [
        "# Python Exercise 4: Using CensusReporter to make geographic selections\n",
        "### APRD 6342  \n",
        "### Fall 2019  \n",
        "### Jenna Beutler"
      ]
    },
    {
      "cell_type": "markdown",
      "metadata": {
        "id": "MtSZrEaHkXA0",
        "colab_type": "text"
      },
      "source": [
        "Import necessary packages and mount Google Drive, upload the data to Colab and look at it."
      ]
    },
    {
      "cell_type": "code",
      "metadata": {
        "id": "zU-44npLONtS",
        "colab_type": "code",
        "colab": {}
      },
      "source": [
        "import numpy as np\n",
        "import pandas as pd\n",
        "import requests\n",
        "import json\n",
        "\n",
        "from google.colab import drive\n",
        "drive.mount('/content/drive')"
      ],
      "execution_count": 0,
      "outputs": []
    },
    {
      "cell_type": "code",
      "metadata": {
        "id": "m35QAokmQH9N",
        "colab_type": "code",
        "outputId": "4ca88c2d-0995-455c-ca8f-87b1c641e0cc",
        "colab": {
          "base_uri": "https://localhost:8080/",
          "height": 204
        }
      },
      "source": [
        "path = '/content/drive/My Drive/Colab Notebooks/Python Exercises/msas.csv'\n",
        "coffee = pd.read_csv(path)\n",
        "coffee.head()"
      ],
      "execution_count": 0,
      "outputs": [
        {
          "output_type": "execute_result",
          "data": {
            "text/html": [
              "<div>\n",
              "<style scoped>\n",
              "    .dataframe tbody tr th:only-of-type {\n",
              "        vertical-align: middle;\n",
              "    }\n",
              "\n",
              "    .dataframe tbody tr th {\n",
              "        vertical-align: top;\n",
              "    }\n",
              "\n",
              "    .dataframe thead th {\n",
              "        text-align: right;\n",
              "    }\n",
              "</style>\n",
              "<table border=\"1\" class=\"dataframe\">\n",
              "  <thead>\n",
              "    <tr style=\"text-align: right;\">\n",
              "      <th></th>\n",
              "      <th>CBSA</th>\n",
              "      <th>NAME</th>\n",
              "      <th>POPESTIMATE2017</th>\n",
              "    </tr>\n",
              "  </thead>\n",
              "  <tbody>\n",
              "    <tr>\n",
              "      <th>0</th>\n",
              "      <td>10180</td>\n",
              "      <td>Abilene, TX</td>\n",
              "      <td>170219</td>\n",
              "    </tr>\n",
              "    <tr>\n",
              "      <th>1</th>\n",
              "      <td>10420</td>\n",
              "      <td>Akron, OH</td>\n",
              "      <td>703505</td>\n",
              "    </tr>\n",
              "    <tr>\n",
              "      <th>2</th>\n",
              "      <td>10500</td>\n",
              "      <td>Albany, GA</td>\n",
              "      <td>151434</td>\n",
              "    </tr>\n",
              "    <tr>\n",
              "      <th>3</th>\n",
              "      <td>10540</td>\n",
              "      <td>Albany, OR</td>\n",
              "      <td>125047</td>\n",
              "    </tr>\n",
              "    <tr>\n",
              "      <th>4</th>\n",
              "      <td>10580</td>\n",
              "      <td>Albany-Schenectady-Troy, NY</td>\n",
              "      <td>886188</td>\n",
              "    </tr>\n",
              "  </tbody>\n",
              "</table>\n",
              "</div>"
            ],
            "text/plain": [
              "    CBSA                         NAME  POPESTIMATE2017\n",
              "0  10180                  Abilene, TX           170219\n",
              "1  10420                    Akron, OH           703505\n",
              "2  10500                   Albany, GA           151434\n",
              "3  10540                   Albany, OR           125047\n",
              "4  10580  Albany-Schenectady-Troy, NY           886188"
            ]
          },
          "metadata": {
            "tags": []
          },
          "execution_count": 9
        }
      ]
    },
    {
      "cell_type": "markdown",
      "metadata": {
        "id": "GEOcZdahkmj4",
        "colab_type": "text"
      },
      "source": [
        "Get the top 3 cities in terms of population estimate in 2017. These are the cities I'll be working with using CensusReporter."
      ]
    },
    {
      "cell_type": "code",
      "metadata": {
        "id": "wqpuobpdL291",
        "colab_type": "code",
        "outputId": "85f43e8d-e607-431e-9dec-6f12c8c533a6",
        "colab": {
          "base_uri": "https://localhost:8080/",
          "height": 142
        }
      },
      "source": [
        "sortedPop = coffee.sort_values(by = 'POPESTIMATE2017', ascending = False)\n",
        "sortedPop.head()\n",
        "topthree = sortedPop[0:3]\n",
        "topthree"
      ],
      "execution_count": 0,
      "outputs": [
        {
          "output_type": "execute_result",
          "data": {
            "text/html": [
              "<div>\n",
              "<style scoped>\n",
              "    .dataframe tbody tr th:only-of-type {\n",
              "        vertical-align: middle;\n",
              "    }\n",
              "\n",
              "    .dataframe tbody tr th {\n",
              "        vertical-align: top;\n",
              "    }\n",
              "\n",
              "    .dataframe thead th {\n",
              "        text-align: right;\n",
              "    }\n",
              "</style>\n",
              "<table border=\"1\" class=\"dataframe\">\n",
              "  <thead>\n",
              "    <tr style=\"text-align: right;\">\n",
              "      <th></th>\n",
              "      <th>CBSA</th>\n",
              "      <th>NAME</th>\n",
              "      <th>POPESTIMATE2017</th>\n",
              "    </tr>\n",
              "  </thead>\n",
              "  <tbody>\n",
              "    <tr>\n",
              "      <th>249</th>\n",
              "      <td>35620</td>\n",
              "      <td>New York-Newark-Jersey City, NY-NJ-PA</td>\n",
              "      <td>20320876</td>\n",
              "    </tr>\n",
              "    <tr>\n",
              "      <th>210</th>\n",
              "      <td>31080</td>\n",
              "      <td>Los Angeles-Long Beach-Anaheim, CA</td>\n",
              "      <td>13353907</td>\n",
              "    </tr>\n",
              "    <tr>\n",
              "      <th>68</th>\n",
              "      <td>16980</td>\n",
              "      <td>Chicago-Naperville-Elgin, IL-IN-WI</td>\n",
              "      <td>9533040</td>\n",
              "    </tr>\n",
              "  </tbody>\n",
              "</table>\n",
              "</div>"
            ],
            "text/plain": [
              "      CBSA                                   NAME  POPESTIMATE2017\n",
              "249  35620  New York-Newark-Jersey City, NY-NJ-PA         20320876\n",
              "210  31080     Los Angeles-Long Beach-Anaheim, CA         13353907\n",
              "68   16980     Chicago-Naperville-Elgin, IL-IN-WI          9533040"
            ]
          },
          "metadata": {
            "tags": []
          },
          "execution_count": 63
        }
      ]
    },
    {
      "cell_type": "markdown",
      "metadata": {
        "id": "RZcqNQw-lZuS",
        "colab_type": "text"
      },
      "source": [
        "CBSA: the unique code for each metro area in the top 3 most populated metros. \n",
        "   \n",
        "tableids: Finding the table numbers from the tables I want to grab from CensusReporter.  \n",
        "  \n",
        "Using the table ids and concatenating them, turning them into one string to request all the information at once from CensusReporter.   \n"
      ]
    },
    {
      "cell_type": "code",
      "metadata": {
        "id": "cm5AxMjp8I9x",
        "colab_type": "code",
        "colab": {}
      },
      "source": [
        "cbsa = ['35620', '31080', '16980' ]"
      ],
      "execution_count": 0,
      "outputs": []
    },
    {
      "cell_type": "code",
      "metadata": {
        "id": "xFGd3sSZRTSs",
        "colab_type": "code",
        "colab": {}
      },
      "source": [
        "tableids = ['B01001', 'B19001', 'B03002' ] #table IDs find online (age, income, race)"
      ],
      "execution_count": 0,
      "outputs": []
    },
    {
      "cell_type": "code",
      "metadata": {
        "id": "pAwGNGH0Rtge",
        "colab_type": "code",
        "colab": {}
      },
      "source": [
        "tableidstring = ','.join(tableids)"
      ],
      "execution_count": 0,
      "outputs": []
    },
    {
      "cell_type": "code",
      "metadata": {
        "id": "aLaYdeOjRTEA",
        "colab_type": "code",
        "colab": {}
      },
      "source": [
        "requesturl01 = 'https://api.censusreporter.org/1.0/data/show/latest?table_ids=%s&geo_ids=310|01000US' % tableidstring"
      ],
      "execution_count": 0,
      "outputs": []
    },
    {
      "cell_type": "markdown",
      "metadata": {
        "id": "ChgUQ_t_l_ON",
        "colab_type": "text"
      },
      "source": [
        "Converting the response data into a parsed json text file."
      ]
    },
    {
      "cell_type": "code",
      "metadata": {
        "id": "cJuiOwAOVKQg",
        "colab_type": "code",
        "colab": {}
      },
      "source": [
        "response = requests.get(requesturl01)\n",
        "census_stuff = response.text\n",
        "parsedjson = json.loads(census_stuff)"
      ],
      "execution_count": 0,
      "outputs": []
    },
    {
      "cell_type": "code",
      "metadata": {
        "id": "6Cl-iLrGK-tx",
        "colab_type": "code",
        "colab": {}
      },
      "source": [
        "#Pulling out age range 18 - 34 for males and females \n",
        "parsedjson['tables']['B01001'] \n",
        "agebucket = ['B01001007', 'B01001008', 'B01001009', 'B01001010', 'B01001011', 'B01001012' ,'B01001031' ,'B01001032',  'B01001033', 'B01001034']"
      ],
      "execution_count": 0,
      "outputs": []
    },
    {
      "cell_type": "code",
      "metadata": {
        "id": "b1sTi4Af21Y8",
        "colab_type": "code",
        "colab": {}
      },
      "source": [
        "#Pulling out HH income from 50k - 74.9k \n",
        "parsedjson['tables']['B19001']\n",
        "incomebucket = ['B19001011', 'B19001012' ]"
      ],
      "execution_count": 0,
      "outputs": []
    },
    {
      "cell_type": "code",
      "metadata": {
        "id": "BpfhBEdf3cA3",
        "colab_type": "code",
        "colab": {}
      },
      "source": [
        "# Pulling out the hispanic population\n",
        "parsedjson['tables']['B03002']\n",
        "hispanicpop = ['B03002012']"
      ],
      "execution_count": 0,
      "outputs": []
    },
    {
      "cell_type": "code",
      "metadata": {
        "id": "LDPjZgs03wmQ",
        "colab_type": "code",
        "outputId": "adb54976-c458-4ca8-c0f3-99dfdbc2b180",
        "colab": {
          "base_uri": "https://localhost:8080/",
          "height": 34
        }
      },
      "source": [
        "# Pulling out the demographics from NYC metro area\n",
        "#Ages:\n",
        "age1 = parsedjson['data']['31000US35620']['B01001']['estimate']['B01001007']\n",
        "age2 = parsedjson['data']['31000US35620']['B01001']['estimate']['B01001008']\n",
        "age3 = parsedjson['data']['31000US35620']['B01001']['estimate']['B01001009']\n",
        "age4 = parsedjson['data']['31000US35620']['B01001']['estimate']['B01001010']\n",
        "age5 = parsedjson['data']['31000US35620']['B01001']['estimate']['B01001011']\n",
        "age6 = parsedjson['data']['31000US35620']['B01001']['estimate']['B01001012']\n",
        "age7 = parsedjson['data']['31000US35620']['B01001']['estimate']['B01001031']\n",
        "age8 = parsedjson['data']['31000US35620']['B01001']['estimate']['B01001032']\n",
        "age9 = parsedjson['data']['31000US35620']['B01001']['estimate']['B01001033']\n",
        "age10 = parsedjson['data']['31000US35620']['B01001']['estimate']['B01001034']\n",
        "agetotalNY = age1 + age2 +age3 + age4 + age5 + age6 + age7 + age8 +age9 + age10\n",
        "agetotalNY"
      ],
      "execution_count": 0,
      "outputs": [
        {
          "output_type": "execute_result",
          "data": {
            "text/plain": [
              "3305203.0"
            ]
          },
          "metadata": {
            "tags": []
          },
          "execution_count": 43
        }
      ]
    },
    {
      "cell_type": "code",
      "metadata": {
        "id": "gWbXSoXG7YEP",
        "colab_type": "code",
        "outputId": "7051b4bc-9572-437f-e13d-5a93334ebb92",
        "colab": {
          "base_uri": "https://localhost:8080/",
          "height": 34
        }
      },
      "source": [
        "#ages for LA\n",
        "age1la = parsedjson['data']['31000US31080']['B01001']['estimate']['B01001007']\n",
        "age2la = parsedjson['data']['31000US31080']['B01001']['estimate']['B01001008']\n",
        "age3la = parsedjson['data']['31000US31080']['B01001']['estimate']['B01001009']\n",
        "age4la = parsedjson['data']['31000US31080']['B01001']['estimate']['B01001010']\n",
        "age5la = parsedjson['data']['31000US31080']['B01001']['estimate']['B01001011']\n",
        "age6la = parsedjson['data']['31000US31080']['B01001']['estimate']['B01001012']\n",
        "age7la = parsedjson['data']['31000US31080']['B01001']['estimate']['B01001031']\n",
        "age8la = parsedjson['data']['31000US31080']['B01001']['estimate']['B01001032']\n",
        "age9la = parsedjson['data']['31000US31080']['B01001']['estimate']['B01001033']\n",
        "age10la = parsedjson['data']['31000US31080']['B01001']['estimate']['B01001034']\n",
        "agetotalla = age1la + age2la + age3la + age3la + age4la + age5la + age6la + age7la + age8la + age9la +age10la\n",
        "agetotalla"
      ],
      "execution_count": 0,
      "outputs": [
        {
          "output_type": "execute_result",
          "data": {
            "text/plain": [
              "2480761.0"
            ]
          },
          "metadata": {
            "tags": []
          },
          "execution_count": 47
        }
      ]
    },
    {
      "cell_type": "code",
      "metadata": {
        "id": "FQ-fUcvH-kDV",
        "colab_type": "code",
        "outputId": "36c36d7c-9506-4a98-c6ae-ab2f8d6d2aaf",
        "colab": {
          "base_uri": "https://localhost:8080/",
          "height": 34
        }
      },
      "source": [
        "#ages for Chicago\n",
        "age1chi = parsedjson['data']['31000US16980']['B01001']['estimate']['B01001007']\n",
        "age2chi = parsedjson['data']['31000US16980']['B01001']['estimate']['B01001008']\n",
        "age3chi = parsedjson['data']['31000US16980']['B01001']['estimate']['B01001009']\n",
        "age4chi = parsedjson['data']['31000US16980']['B01001']['estimate']['B01001010']\n",
        "age5chi = parsedjson['data']['31000US16980']['B01001']['estimate']['B01001011']\n",
        "age6chi = parsedjson['data']['31000US16980']['B01001']['estimate']['B01001012']\n",
        "age7chi = parsedjson['data']['31000US16980']['B01001']['estimate']['B01001031']\n",
        "age8chi = parsedjson['data']['31000US16980']['B01001']['estimate']['B01001032']\n",
        "age9chi = parsedjson['data']['31000US16980']['B01001']['estimate']['B01001033']\n",
        "age10chi = parsedjson['data']['31000US16980']['B01001']['estimate']['B01001034']\n",
        "agetotalchi = age1chi + age2chi + age3chi + age3chi + age4chi + age5chi + age6chi + age7chi + age8chi + age9chi +age10chi\n",
        "agetotalchi"
      ],
      "execution_count": 0,
      "outputs": [
        {
          "output_type": "execute_result",
          "data": {
            "text/plain": [
              "1641664.0"
            ]
          },
          "metadata": {
            "tags": []
          },
          "execution_count": 48
        }
      ]
    },
    {
      "cell_type": "code",
      "metadata": {
        "id": "Z_jj56zF__r4",
        "colab_type": "code",
        "outputId": "6acf3a39-cfbc-4010-dc45-658b8da1b896",
        "colab": {
          "base_uri": "https://localhost:8080/",
          "height": 34
        }
      },
      "source": [
        "AgeCountTotal = [agetotalchi, agetotalla, agetotalNY]\n",
        "max(AgeCountTotal) #NEW YORK HAS THE HIGHEST AMOUNT OF PEOPLE IN OUR TARGET AGE RANGE"
      ],
      "execution_count": 0,
      "outputs": [
        {
          "output_type": "execute_result",
          "data": {
            "text/plain": [
              "3305203.0"
            ]
          },
          "metadata": {
            "tags": []
          },
          "execution_count": 50
        }
      ]
    },
    {
      "cell_type": "code",
      "metadata": {
        "id": "rdDVikZqALKe",
        "colab_type": "code",
        "outputId": "f0684a99-470b-443b-904b-936c4ce427ca",
        "colab": {
          "base_uri": "https://localhost:8080/",
          "height": 34
        }
      },
      "source": [
        "# pulling out Income information NY\n",
        "inc1 = parsedjson['data']['31000US35620']['B19001']['estimate']['B19001011']\n",
        "inc2 = parsedjson['data']['31000US35620']['B19001']['estimate']['B19001012']\n",
        "totalNYinc = inc1 + inc2\n",
        "totalNYinc"
      ],
      "execution_count": 0,
      "outputs": [
        {
          "output_type": "execute_result",
          "data": {
            "text/plain": [
              "1050888.0"
            ]
          },
          "metadata": {
            "tags": []
          },
          "execution_count": 51
        }
      ]
    },
    {
      "cell_type": "code",
      "metadata": {
        "id": "UMEKsmj9BRmC",
        "colab_type": "code",
        "outputId": "f4a03f5e-aa7b-49f0-bc8f-079aa4b8af99",
        "colab": {
          "base_uri": "https://localhost:8080/",
          "height": 34
        }
      },
      "source": [
        "#Income for LA\n",
        "inc1la = parsedjson['data']['31000US31080']['B19001']['estimate']['B19001011']\n",
        "inc2la = parsedjson['data']['31000US31080']['B19001']['estimate']['B19001012']\n",
        "totallainc = inc1la + inc2la\n",
        "totallainc"
      ],
      "execution_count": 0,
      "outputs": [
        {
          "output_type": "execute_result",
          "data": {
            "text/plain": [
              "700681.0"
            ]
          },
          "metadata": {
            "tags": []
          },
          "execution_count": 52
        }
      ]
    },
    {
      "cell_type": "code",
      "metadata": {
        "id": "-phO8pncBnji",
        "colab_type": "code",
        "outputId": "5c786677-4a00-4f16-e4aa-20a5efc6bd8c",
        "colab": {
          "base_uri": "https://localhost:8080/",
          "height": 34
        }
      },
      "source": [
        "#Income for Chicago\n",
        "inc1chi = parsedjson['data']['31000US16980']['B19001']['estimate']['B19001011']\n",
        "inc2chi = parsedjson['data']['31000US16980']['B19001']['estimate']['B19001012']\n",
        "totalchiinc = inc1chi + inc2chi\n",
        "totalchiinc"
      ],
      "execution_count": 0,
      "outputs": [
        {
          "output_type": "execute_result",
          "data": {
            "text/plain": [
              "584377.0"
            ]
          },
          "metadata": {
            "tags": []
          },
          "execution_count": 53
        }
      ]
    },
    {
      "cell_type": "code",
      "metadata": {
        "id": "fHD-olBGB516",
        "colab_type": "code",
        "outputId": "201f170d-2c84-40cf-915b-a2dfadc6186c",
        "colab": {
          "base_uri": "https://localhost:8080/",
          "height": 34
        }
      },
      "source": [
        "IncCountTotal = [totalNYinc, totallainc, totalchiinc]\n",
        "max(IncCountTotal) #NY HAS THE HIGHEST POPULATION OF PEOPLE WHO MAKE BEWTEEN 50K AND 74.9K "
      ],
      "execution_count": 0,
      "outputs": [
        {
          "output_type": "execute_result",
          "data": {
            "text/plain": [
              "1050888.0"
            ]
          },
          "metadata": {
            "tags": []
          },
          "execution_count": 54
        }
      ]
    },
    {
      "cell_type": "code",
      "metadata": {
        "id": "4g7qIFdBCgd8",
        "colab_type": "code",
        "outputId": "d38f4826-e4e9-49fa-c77b-672564168e69",
        "colab": {
          "base_uri": "https://localhost:8080/",
          "height": 34
        }
      },
      "source": [
        "#Hispanic populations in NY\n",
        "hispanicny = parsedjson['data']['31000US35620']['B03002']['estimate']['B03002012']\n",
        "hispanicny"
      ],
      "execution_count": 0,
      "outputs": [
        {
          "output_type": "execute_result",
          "data": {
            "text/plain": [
              "4863602.0"
            ]
          },
          "metadata": {
            "tags": []
          },
          "execution_count": 57
        }
      ]
    },
    {
      "cell_type": "code",
      "metadata": {
        "id": "hrNshL2YCgC_",
        "colab_type": "code",
        "outputId": "7dd24b72-cc65-4883-964d-795581f1af60",
        "colab": {
          "base_uri": "https://localhost:8080/",
          "height": 34
        }
      },
      "source": [
        "#hispanic population LA\n",
        "hispanicla = parsedjson['data']['31000US31080']['B03002']['estimate']['B03002012']\n",
        "hispanicla"
      ],
      "execution_count": 0,
      "outputs": [
        {
          "output_type": "execute_result",
          "data": {
            "text/plain": [
              "5972751.0"
            ]
          },
          "metadata": {
            "tags": []
          },
          "execution_count": 60
        }
      ]
    },
    {
      "cell_type": "code",
      "metadata": {
        "id": "P73kbqSJDH0Q",
        "colab_type": "code",
        "outputId": "23fb7d8a-2c04-4579-f1d9-1b7aea7e63ed",
        "colab": {
          "base_uri": "https://localhost:8080/",
          "height": 34
        }
      },
      "source": [
        "# hispanic population Chi\n",
        "hispanicchi = parsedjson['data']['31000US16980']['B03002']['estimate']['B03002012']\n",
        "hispanicchi\n"
      ],
      "execution_count": 0,
      "outputs": [
        {
          "output_type": "execute_result",
          "data": {
            "text/plain": [
              "2081524.0"
            ]
          },
          "metadata": {
            "tags": []
          },
          "execution_count": 61
        }
      ]
    },
    {
      "cell_type": "code",
      "metadata": {
        "id": "HEP2vdynDWua",
        "colab_type": "code",
        "outputId": "7e3ce96d-6a62-4f23-f785-8a9645a9dd0c",
        "colab": {
          "base_uri": "https://localhost:8080/",
          "height": 34
        }
      },
      "source": [
        "totalHispanicPop = [hispanicny, hispanicla, hispanicchi]\n",
        "max(totalHispanicPop)  # LA HAS THE HIGHEST HISPANIC POPULATION"
      ],
      "execution_count": 0,
      "outputs": [
        {
          "output_type": "execute_result",
          "data": {
            "text/plain": [
              "5972751.0"
            ]
          },
          "metadata": {
            "tags": []
          },
          "execution_count": 62
        }
      ]
    },
    {
      "cell_type": "markdown",
      "metadata": {
        "id": "OZJcgQxWmMRQ",
        "colab_type": "text"
      },
      "source": [
        "Taking all the above information and creating a dataframe: "
      ]
    },
    {
      "cell_type": "code",
      "metadata": {
        "id": "F_jrtSWVEA-8",
        "colab_type": "code",
        "outputId": "f23639d8-b2f7-4378-980b-fa86415c66c9",
        "colab": {
          "base_uri": "https://localhost:8080/",
          "height": 448
        }
      },
      "source": [
        "topthree['Hispanic Pop'] = totalHispanicPop\n",
        "topthree['Income between 50-74.9k'] = IncCountTotal\n",
        "topthree['Ages 18-34'] = AgeCountTotal\n",
        "topthree"
      ],
      "execution_count": 0,
      "outputs": [
        {
          "output_type": "stream",
          "text": [
            "/usr/local/lib/python3.6/dist-packages/ipykernel_launcher.py:1: SettingWithCopyWarning: \n",
            "A value is trying to be set on a copy of a slice from a DataFrame.\n",
            "Try using .loc[row_indexer,col_indexer] = value instead\n",
            "\n",
            "See the caveats in the documentation: http://pandas.pydata.org/pandas-docs/stable/user_guide/indexing.html#returning-a-view-versus-a-copy\n",
            "  \"\"\"Entry point for launching an IPython kernel.\n",
            "/usr/local/lib/python3.6/dist-packages/ipykernel_launcher.py:2: SettingWithCopyWarning: \n",
            "A value is trying to be set on a copy of a slice from a DataFrame.\n",
            "Try using .loc[row_indexer,col_indexer] = value instead\n",
            "\n",
            "See the caveats in the documentation: http://pandas.pydata.org/pandas-docs/stable/user_guide/indexing.html#returning-a-view-versus-a-copy\n",
            "  \n",
            "/usr/local/lib/python3.6/dist-packages/ipykernel_launcher.py:3: SettingWithCopyWarning: \n",
            "A value is trying to be set on a copy of a slice from a DataFrame.\n",
            "Try using .loc[row_indexer,col_indexer] = value instead\n",
            "\n",
            "See the caveats in the documentation: http://pandas.pydata.org/pandas-docs/stable/user_guide/indexing.html#returning-a-view-versus-a-copy\n",
            "  This is separate from the ipykernel package so we can avoid doing imports until\n"
          ],
          "name": "stderr"
        },
        {
          "output_type": "execute_result",
          "data": {
            "text/html": [
              "<div>\n",
              "<style scoped>\n",
              "    .dataframe tbody tr th:only-of-type {\n",
              "        vertical-align: middle;\n",
              "    }\n",
              "\n",
              "    .dataframe tbody tr th {\n",
              "        vertical-align: top;\n",
              "    }\n",
              "\n",
              "    .dataframe thead th {\n",
              "        text-align: right;\n",
              "    }\n",
              "</style>\n",
              "<table border=\"1\" class=\"dataframe\">\n",
              "  <thead>\n",
              "    <tr style=\"text-align: right;\">\n",
              "      <th></th>\n",
              "      <th>CBSA</th>\n",
              "      <th>NAME</th>\n",
              "      <th>POPESTIMATE2017</th>\n",
              "      <th>Hispanic Pop</th>\n",
              "      <th>Income between 50-74.9k</th>\n",
              "      <th>Ages 18-34</th>\n",
              "    </tr>\n",
              "  </thead>\n",
              "  <tbody>\n",
              "    <tr>\n",
              "      <th>249</th>\n",
              "      <td>35620</td>\n",
              "      <td>New York-Newark-Jersey City, NY-NJ-PA</td>\n",
              "      <td>20320876</td>\n",
              "      <td>4863602.0</td>\n",
              "      <td>1050888.0</td>\n",
              "      <td>1641664.0</td>\n",
              "    </tr>\n",
              "    <tr>\n",
              "      <th>210</th>\n",
              "      <td>31080</td>\n",
              "      <td>Los Angeles-Long Beach-Anaheim, CA</td>\n",
              "      <td>13353907</td>\n",
              "      <td>5972751.0</td>\n",
              "      <td>700681.0</td>\n",
              "      <td>2480761.0</td>\n",
              "    </tr>\n",
              "    <tr>\n",
              "      <th>68</th>\n",
              "      <td>16980</td>\n",
              "      <td>Chicago-Naperville-Elgin, IL-IN-WI</td>\n",
              "      <td>9533040</td>\n",
              "      <td>2081524.0</td>\n",
              "      <td>584377.0</td>\n",
              "      <td>3305203.0</td>\n",
              "    </tr>\n",
              "  </tbody>\n",
              "</table>\n",
              "</div>"
            ],
            "text/plain": [
              "      CBSA  ... Ages 18-34\n",
              "249  35620  ...  1641664.0\n",
              "210  31080  ...  2480761.0\n",
              "68   16980  ...  3305203.0\n",
              "\n",
              "[3 rows x 6 columns]"
            ]
          },
          "metadata": {
            "tags": []
          },
          "execution_count": 70
        }
      ]
    },
    {
      "cell_type": "markdown",
      "metadata": {
        "id": "UrJJCnb1mPs4",
        "colab_type": "text"
      },
      "source": [
        "Looking at the place with the maximum amount of people in the target demographics. "
      ]
    },
    {
      "cell_type": "code",
      "metadata": {
        "id": "OWCTEGGEFWg_",
        "colab_type": "code",
        "outputId": "8c32a868-4682-4594-a46b-d2b22b8f82c3",
        "colab": {
          "base_uri": "https://localhost:8080/",
          "height": 182
        }
      },
      "source": [
        "topthree['Total Percent'] = (topthree['Hispanic Pop'] + topthree['Income between 50-74.9k'] + topthree['Ages 18-34']) / topthree['POPESTIMATE2017']\n",
        "topthree[topthree['Total Percent']==topthree['Total Percent'].max()] \n",
        "# LOS ANGELES HAS THE HIGHEST POPULATION ACROSS THE BOARD."
      ],
      "execution_count": 0,
      "outputs": [
        {
          "output_type": "stream",
          "text": [
            "/usr/local/lib/python3.6/dist-packages/ipykernel_launcher.py:1: SettingWithCopyWarning: \n",
            "A value is trying to be set on a copy of a slice from a DataFrame.\n",
            "Try using .loc[row_indexer,col_indexer] = value instead\n",
            "\n",
            "See the caveats in the documentation: http://pandas.pydata.org/pandas-docs/stable/user_guide/indexing.html#returning-a-view-versus-a-copy\n",
            "  \"\"\"Entry point for launching an IPython kernel.\n"
          ],
          "name": "stderr"
        },
        {
          "output_type": "execute_result",
          "data": {
            "text/html": [
              "<div>\n",
              "<style scoped>\n",
              "    .dataframe tbody tr th:only-of-type {\n",
              "        vertical-align: middle;\n",
              "    }\n",
              "\n",
              "    .dataframe tbody tr th {\n",
              "        vertical-align: top;\n",
              "    }\n",
              "\n",
              "    .dataframe thead th {\n",
              "        text-align: right;\n",
              "    }\n",
              "</style>\n",
              "<table border=\"1\" class=\"dataframe\">\n",
              "  <thead>\n",
              "    <tr style=\"text-align: right;\">\n",
              "      <th></th>\n",
              "      <th>CBSA</th>\n",
              "      <th>NAME</th>\n",
              "      <th>POPESTIMATE2017</th>\n",
              "      <th>Hispanic Pop</th>\n",
              "      <th>Income between 50-74.9k</th>\n",
              "      <th>Ages 18-34</th>\n",
              "      <th>Total Percent</th>\n",
              "    </tr>\n",
              "  </thead>\n",
              "  <tbody>\n",
              "    <tr>\n",
              "      <th>210</th>\n",
              "      <td>31080</td>\n",
              "      <td>Los Angeles-Long Beach-Anaheim, CA</td>\n",
              "      <td>13353907</td>\n",
              "      <td>5972751.0</td>\n",
              "      <td>700681.0</td>\n",
              "      <td>2480761.0</td>\n",
              "      <td>0.685507</td>\n",
              "    </tr>\n",
              "  </tbody>\n",
              "</table>\n",
              "</div>"
            ],
            "text/plain": [
              "      CBSA                                NAME  ...  Ages 18-34  Total Percent\n",
              "210  31080  Los Angeles-Long Beach-Anaheim, CA  ...   2480761.0       0.685507\n",
              "\n",
              "[1 rows x 7 columns]"
            ]
          },
          "metadata": {
            "tags": []
          },
          "execution_count": 74
        }
      ]
    },
    {
      "cell_type": "markdown",
      "metadata": {
        "id": "yOBtzs5ODnZG",
        "colab_type": "text"
      },
      "source": [
        "What city has the highest count of the audience you chose for parameter #1?  \n",
        "- New York Metro  \n",
        "What city has the highest count of the audience you chose for parameter #2?  \n",
        "- New York Metro  \n",
        "What city has the highest count of the audience you chose for parameter #3?  \n",
        "- Los Angeles Metro  \n",
        "What city has the highest mean percentage across all three categories?  \n",
        "- Los Angeles Metro"
      ]
    }
  ]
}