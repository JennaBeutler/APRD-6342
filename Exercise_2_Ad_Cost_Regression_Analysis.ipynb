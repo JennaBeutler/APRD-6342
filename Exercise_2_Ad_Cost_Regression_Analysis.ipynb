{
  "nbformat": 4,
  "nbformat_minor": 0,
  "metadata": {
    "colab": {
      "name": "Exercise 2 Ad Cost Regression Analysis.ipynb",
      "provenance": [],
      "include_colab_link": true
    },
    "kernelspec": {
      "name": "python3",
      "display_name": "Python 3"
    }
  },
  "cells": [
    {
      "cell_type": "markdown",
      "metadata": {
        "id": "view-in-github",
        "colab_type": "text"
      },
      "source": [
        "<a href=\"https://colab.research.google.com/github/JennaBeutler/APRD-6342/blob/master/Exercise_2_Ad_Cost_Regression_Analysis.ipynb\" target=\"_parent\"><img src=\"https://colab.research.google.com/assets/colab-badge.svg\" alt=\"Open In Colab\"/></a>"
      ]
    },
    {
      "cell_type": "markdown",
      "metadata": {
        "id": "_SE2jbPheJ1y",
        "colab_type": "text"
      },
      "source": [
        "# Python Exercise 2: Ad Cost Regression Analysis\n",
        "### APRD 6342  \n",
        "### Fall 2019  \n",
        "### Jenna Beutler"
      ]
    },
    {
      "cell_type": "markdown",
      "metadata": {
        "id": "oRNBL_C1ePXU",
        "colab_type": "text"
      },
      "source": [
        "Importing all necessary packages, mounting the drive, and uploading Travel Pony ad dataset"
      ]
    },
    {
      "cell_type": "code",
      "metadata": {
        "id": "ORhCAZ_jNHc8",
        "colab_type": "code",
        "colab": {}
      },
      "source": [
        "import seaborn as sns\n",
        "import numpy as np \n",
        "import pandas as pd\n",
        "import statsmodels.api as sm\n",
        "\n",
        "from google.colab import drive\n",
        "drive.mount('/content/drive')"
      ],
      "execution_count": 0,
      "outputs": []
    },
    {
      "cell_type": "code",
      "metadata": {
        "id": "qBhAk4t3Ne7l",
        "colab_type": "code",
        "outputId": "4d0fa907-63e1-45d5-dff8-0383ad7a6781",
        "colab": {
          "base_uri": "https://localhost:8080/",
          "height": 306
        }
      },
      "source": [
        "path = '/content/drive/My Drive/Colab Notebooks/Python Exercises/Travel Pony Facebook.csv'\n",
        "travelpony = pd.read_csv(path)\n",
        "travelpony.head()"
      ],
      "execution_count": 0,
      "outputs": [
        {
          "output_type": "execute_result",
          "data": {
            "text/html": [
              "<div>\n",
              "<style scoped>\n",
              "    .dataframe tbody tr th:only-of-type {\n",
              "        vertical-align: middle;\n",
              "    }\n",
              "\n",
              "    .dataframe tbody tr th {\n",
              "        vertical-align: top;\n",
              "    }\n",
              "\n",
              "    .dataframe thead th {\n",
              "        text-align: right;\n",
              "    }\n",
              "</style>\n",
              "<table border=\"1\" class=\"dataframe\">\n",
              "  <thead>\n",
              "    <tr style=\"text-align: right;\">\n",
              "      <th></th>\n",
              "      <th>Start Date</th>\n",
              "      <th>End Date</th>\n",
              "      <th>Account</th>\n",
              "      <th>Campaign Name</th>\n",
              "      <th>Reach</th>\n",
              "      <th>Frequency</th>\n",
              "      <th>Impressions</th>\n",
              "      <th>Clicks</th>\n",
              "      <th>Unique Clicks</th>\n",
              "      <th>Amount Spent (USD)</th>\n",
              "      <th>Page Likes</th>\n",
              "      <th>Page Engagement</th>\n",
              "      <th>Post Engagement</th>\n",
              "      <th>Post Likes</th>\n",
              "      <th>Post Comments</th>\n",
              "      <th>Post Shares</th>\n",
              "      <th>Photo Views</th>\n",
              "      <th>Website Clicks</th>\n",
              "      <th>Cost per Page Like (USD)</th>\n",
              "      <th>Cost per Page Engagement (USD)</th>\n",
              "    </tr>\n",
              "  </thead>\n",
              "  <tbody>\n",
              "    <tr>\n",
              "      <th>0</th>\n",
              "      <td>2013-12-02</td>\n",
              "      <td>2013-12-02</td>\n",
              "      <td>Bob Jackson</td>\n",
              "      <td>Cyber Weekend</td>\n",
              "      <td>278117</td>\n",
              "      <td>2.314303</td>\n",
              "      <td>643647</td>\n",
              "      <td>336</td>\n",
              "      <td>313</td>\n",
              "      <td>300.00</td>\n",
              "      <td>3</td>\n",
              "      <td>246</td>\n",
              "      <td>243</td>\n",
              "      <td>0</td>\n",
              "      <td>0</td>\n",
              "      <td>0</td>\n",
              "      <td>0</td>\n",
              "      <td>243</td>\n",
              "      <td>100.00</td>\n",
              "      <td>1.219512</td>\n",
              "    </tr>\n",
              "    <tr>\n",
              "      <th>1</th>\n",
              "      <td>2013-12-01</td>\n",
              "      <td>2013-12-01</td>\n",
              "      <td>Bob Jackson</td>\n",
              "      <td>Cyber Weekend</td>\n",
              "      <td>221255</td>\n",
              "      <td>2.079090</td>\n",
              "      <td>460009</td>\n",
              "      <td>376</td>\n",
              "      <td>348</td>\n",
              "      <td>300.00</td>\n",
              "      <td>6</td>\n",
              "      <td>215</td>\n",
              "      <td>209</td>\n",
              "      <td>0</td>\n",
              "      <td>0</td>\n",
              "      <td>0</td>\n",
              "      <td>0</td>\n",
              "      <td>209</td>\n",
              "      <td>50.00</td>\n",
              "      <td>1.395349</td>\n",
              "    </tr>\n",
              "    <tr>\n",
              "      <th>2</th>\n",
              "      <td>2013-11-30</td>\n",
              "      <td>2013-11-30</td>\n",
              "      <td>Bob Jackson</td>\n",
              "      <td>Cyber Weekend</td>\n",
              "      <td>267915</td>\n",
              "      <td>2.499069</td>\n",
              "      <td>669538</td>\n",
              "      <td>383</td>\n",
              "      <td>345</td>\n",
              "      <td>300.00</td>\n",
              "      <td>2</td>\n",
              "      <td>252</td>\n",
              "      <td>250</td>\n",
              "      <td>0</td>\n",
              "      <td>0</td>\n",
              "      <td>0</td>\n",
              "      <td>0</td>\n",
              "      <td>250</td>\n",
              "      <td>150.00</td>\n",
              "      <td>1.190476</td>\n",
              "    </tr>\n",
              "    <tr>\n",
              "      <th>3</th>\n",
              "      <td>2013-11-29</td>\n",
              "      <td>2013-11-29</td>\n",
              "      <td>Bob Jackson</td>\n",
              "      <td>Cyber Weekend</td>\n",
              "      <td>280332</td>\n",
              "      <td>2.365406</td>\n",
              "      <td>663099</td>\n",
              "      <td>301</td>\n",
              "      <td>275</td>\n",
              "      <td>300.00</td>\n",
              "      <td>3</td>\n",
              "      <td>257</td>\n",
              "      <td>254</td>\n",
              "      <td>0</td>\n",
              "      <td>0</td>\n",
              "      <td>0</td>\n",
              "      <td>0</td>\n",
              "      <td>254</td>\n",
              "      <td>100.00</td>\n",
              "      <td>1.167315</td>\n",
              "    </tr>\n",
              "    <tr>\n",
              "      <th>4</th>\n",
              "      <td>2013-11-22</td>\n",
              "      <td>2013-11-22</td>\n",
              "      <td>Bob Jackson</td>\n",
              "      <td>TravelPony: General Ads</td>\n",
              "      <td>14269</td>\n",
              "      <td>1.000420</td>\n",
              "      <td>14275</td>\n",
              "      <td>64</td>\n",
              "      <td>61</td>\n",
              "      <td>35.18</td>\n",
              "      <td>2</td>\n",
              "      <td>14</td>\n",
              "      <td>12</td>\n",
              "      <td>0</td>\n",
              "      <td>0</td>\n",
              "      <td>0</td>\n",
              "      <td>0</td>\n",
              "      <td>12</td>\n",
              "      <td>17.59</td>\n",
              "      <td>2.512857</td>\n",
              "    </tr>\n",
              "  </tbody>\n",
              "</table>\n",
              "</div>"
            ],
            "text/plain": [
              "   Start Date  ... Cost per Page Engagement (USD)\n",
              "0  2013-12-02  ...                       1.219512\n",
              "1  2013-12-01  ...                       1.395349\n",
              "2  2013-11-30  ...                       1.190476\n",
              "3  2013-11-29  ...                       1.167315\n",
              "4  2013-11-22  ...                       2.512857\n",
              "\n",
              "[5 rows x 20 columns]"
            ]
          },
          "metadata": {
            "tags": []
          },
          "execution_count": 89
        }
      ]
    },
    {
      "cell_type": "markdown",
      "metadata": {
        "id": "ARZVvHj8ebbP",
        "colab_type": "text"
      },
      "source": [
        "Only want to look at ads that actually ran, meaning some amount of money was spent on them to run"
      ]
    },
    {
      "cell_type": "code",
      "metadata": {
        "id": "pQB9kO22NtMg",
        "colab_type": "code",
        "colab": {}
      },
      "source": [
        "travelpony = travelpony[travelpony['Amount Spent (USD)'] > 0]"
      ],
      "execution_count": 0,
      "outputs": []
    },
    {
      "cell_type": "markdown",
      "metadata": {
        "id": "d7vFqcwEejsb",
        "colab_type": "text"
      },
      "source": [
        "\n",
        "\n",
        "---\n",
        "\n"
      ]
    },
    {
      "cell_type": "markdown",
      "metadata": {
        "id": "y-6mnQjVekiO",
        "colab_type": "text"
      },
      "source": [
        "#### Question 1 (part I and II)  \n",
        "Create a histogram for amount spent  \n",
        "Create scatter plots for spend and: reach, frequency, impressions and clicks  \n"
      ]
    },
    {
      "cell_type": "code",
      "metadata": {
        "id": "e4aJQ91_PVjB",
        "colab_type": "code",
        "outputId": "e8f1d4f7-d9bc-474b-ee35-1fbcfeb8ad75",
        "colab": {
          "base_uri": "https://localhost:8080/",
          "height": 296
        }
      },
      "source": [
        "sns.distplot(travelpony['Amount Spent (USD)'])"
      ],
      "execution_count": 0,
      "outputs": [
        {
          "output_type": "execute_result",
          "data": {
            "text/plain": [
              "<matplotlib.axes._subplots.AxesSubplot at 0x7fa1d9dccba8>"
            ]
          },
          "metadata": {
            "tags": []
          },
          "execution_count": 91
        },
        {
          "output_type": "display_data",
          "data": {
            "image/png": "[encoded data removed]",
            "text/plain": [
              "<Figure size 432x288 with 1 Axes>"
            ]
          },
          "metadata": {
            "tags": []
          }
        }
      ]
    },
    {
      "cell_type": "code",
      "metadata": {
        "id": "nl1h8NM2QPYT",
        "colab_type": "code",
        "outputId": "fad2340d-a8a4-4ae5-de4a-e5bd537de5c9",
        "colab": {
          "base_uri": "https://localhost:8080/",
          "height": 312
        }
      },
      "source": [
        "reach = sns.scatterplot(x=travelpony['Amount Spent (USD)'], y=travelpony['Reach'])\n",
        "reach.set_title('Reach')"
      ],
      "execution_count": 0,
      "outputs": [
        {
          "output_type": "execute_result",
          "data": {
            "text/plain": [
              "Text(0.5, 1.0, 'Reach')"
            ]
          },
          "metadata": {
            "tags": []
          },
          "execution_count": 92
        },
        {
          "output_type": "display_data",
          "data": {
            "image/png": "[encoded data removed]",
            "text/plain": [
              "<Figure size 432x288 with 1 Axes>"
            ]
          },
          "metadata": {
            "tags": []
          }
        }
      ]
    },
    {
      "cell_type": "code",
      "metadata": {
        "id": "dDjaHJEZRL5-",
        "colab_type": "code",
        "outputId": "2962aec8-7f89-4ce5-ef27-35f6f68362fb",
        "colab": {
          "base_uri": "https://localhost:8080/",
          "height": 312
        }
      },
      "source": [
        "freq = sns.scatterplot(x=travelpony['Amount Spent (USD)'], y=travelpony['Frequency'])\n",
        "freq.set_title('Frequency')"
      ],
      "execution_count": 0,
      "outputs": [
        {
          "output_type": "execute_result",
          "data": {
            "text/plain": [
              "Text(0.5, 1.0, 'Frequency')"
            ]
          },
          "metadata": {
            "tags": []
          },
          "execution_count": 93
        },
        {
          "output_type": "display_data",
          "data": {
            "image/png": "[encoded data removed]",
            "text/plain": [
              "<Figure size 432x288 with 1 Axes>"
            ]
          },
          "metadata": {
            "tags": []
          }
        }
      ]
    },
    {
      "cell_type": "code",
      "metadata": {
        "id": "DQlumNH2RjSM",
        "colab_type": "code",
        "outputId": "5cea90c4-f35a-49bc-c302-7cee00ff39f0",
        "colab": {
          "base_uri": "https://localhost:8080/",
          "height": 312
        }
      },
      "source": [
        "imps = sns.scatterplot(x=travelpony['Amount Spent (USD)'], y=travelpony['Impressions'])\n",
        "imps.set_title('Impressions')"
      ],
      "execution_count": 0,
      "outputs": [
        {
          "output_type": "execute_result",
          "data": {
            "text/plain": [
              "Text(0.5, 1.0, 'Impressions')"
            ]
          },
          "metadata": {
            "tags": []
          },
          "execution_count": 94
        },
        {
          "output_type": "display_data",
          "data": {
            "image/png": "[encoded data removed]",
            "text/plain": [
              "<Figure size 432x288 with 1 Axes>"
            ]
          },
          "metadata": {
            "tags": []
          }
        }
      ]
    },
    {
      "cell_type": "code",
      "metadata": {
        "id": "MWFdQ2wxRp_v",
        "colab_type": "code",
        "outputId": "546267b6-3998-4030-c1b7-82c188b43a8d",
        "colab": {
          "base_uri": "https://localhost:8080/",
          "height": 312
        }
      },
      "source": [
        "clicks = sns.scatterplot(x=travelpony['Amount Spent (USD)'], y=travelpony['Clicks'])\n",
        "clicks.set_title('Clicks')"
      ],
      "execution_count": 0,
      "outputs": [
        {
          "output_type": "execute_result",
          "data": {
            "text/plain": [
              "Text(0.5, 1.0, 'Clicks')"
            ]
          },
          "metadata": {
            "tags": []
          },
          "execution_count": 95
        },
        {
          "output_type": "display_data",
          "data": {
            "image/png": "[encoded data removed]",
            "text/plain": [
              "<Figure size 432x288 with 1 Axes>"
            ]
          },
          "metadata": {
            "tags": []
          }
        }
      ]
    },
    {
      "cell_type": "markdown",
      "metadata": {
        "id": "0wIEHSUHe4rv",
        "colab_type": "text"
      },
      "source": [
        "\n",
        "\n",
        "---\n",
        "\n"
      ]
    },
    {
      "cell_type": "markdown",
      "metadata": {
        "id": "KoocLKfze5h5",
        "colab_type": "text"
      },
      "source": [
        "#### Question 2:\n",
        "Build a multiple regression where the outcome variable is Amount Spent and the predictor variables are:   \n",
        "Campaign Name  \n",
        "Reach  \n",
        "Frequency  \n",
        "Impressions  \n",
        "Clicks  \n",
        "Unique Clicks  \n",
        "Page Likes  \n",
        "Page Engagement  \n",
        "Post Engagement  \n",
        "Post Likes  \n",
        "Post Comments  \n",
        "Post Shares  \n",
        "Photo Views  \n",
        "Website Clicks\n",
        "\n"
      ]
    },
    {
      "cell_type": "markdown",
      "metadata": {
        "id": "K8VOt9pOfi8i",
        "colab_type": "text"
      },
      "source": [
        "Since the Campaign Name is a categorical column with over 300 different \"unique\" names, some data cleaning is necessary to group them all into 7 categories. "
      ]
    },
    {
      "cell_type": "code",
      "metadata": {
        "id": "Y6O9HY-bgl6z",
        "colab_type": "code",
        "colab": {}
      },
      "source": [
        "travelpony['Campaign Name'].unique()"
      ],
      "execution_count": 0,
      "outputs": []
    },
    {
      "cell_type": "code",
      "metadata": {
        "id": "WTuMmhKl3ndx",
        "colab_type": "code",
        "colab": {}
      },
      "source": [
        "# Changing the data type to string so it's easier to manipulate\n",
        "# replacing extra characters \n",
        "travelpony['Campaign Name'] = travelpony['Campaign Name'].astype('str') \n",
        "travelpony['Campaign Name'] = travelpony['Campaign Name'].str.replace('[^a-zA-Z0-9:\\s+]', '') \n",
        "travelpony['Campaign Name'] = travelpony['Campaign Name'].str.replace('\\d+', '') "
      ],
      "execution_count": 0,
      "outputs": []
    },
    {
      "cell_type": "code",
      "metadata": {
        "id": "NE5pLUNvdsqY",
        "colab_type": "code",
        "outputId": "05b8bdf3-5dfa-4bcd-a229-16520fd1f69e",
        "colab": {
          "base_uri": "https://localhost:8080/",
          "height": 530
        }
      },
      "source": [
        "# Dummy coding the Campaign names so I can use them in the regression. \n",
        "pd.get_dummies(travelpony['Campaign Name'])\n",
        "travelpony = pd.concat([travelpony, pd.get_dummies(travelpony['Campaign Name'])], axis=1)\n",
        "travelpony.head()"
      ],
      "execution_count": 0,
      "outputs": [
        {
          "output_type": "execute_result",
          "data": {
            "text/html": [
              "<div>\n",
              "<style scoped>\n",
              "    .dataframe tbody tr th:only-of-type {\n",
              "        vertical-align: middle;\n",
              "    }\n",
              "\n",
              "    .dataframe tbody tr th {\n",
              "        vertical-align: top;\n",
              "    }\n",
              "\n",
              "    .dataframe thead th {\n",
              "        text-align: right;\n",
              "    }\n",
              "</style>\n",
              "<table border=\"1\" class=\"dataframe\">\n",
              "  <thead>\n",
              "    <tr style=\"text-align: right;\">\n",
              "      <th></th>\n",
              "      <th>Start Date</th>\n",
              "      <th>End Date</th>\n",
              "      <th>Account</th>\n",
              "      <th>Campaign Name</th>\n",
              "      <th>Reach</th>\n",
              "      <th>Frequency</th>\n",
              "      <th>Impressions</th>\n",
              "      <th>Clicks</th>\n",
              "      <th>Unique Clicks</th>\n",
              "      <th>Amount Spent (USD)</th>\n",
              "      <th>Page Likes</th>\n",
              "      <th>Page Engagement</th>\n",
              "      <th>Post Engagement</th>\n",
              "      <th>Post Likes</th>\n",
              "      <th>Post Comments</th>\n",
              "      <th>Post Shares</th>\n",
              "      <th>Photo Views</th>\n",
              "      <th>Website Clicks</th>\n",
              "      <th>Cost per Page Like (USD)</th>\n",
              "      <th>Cost per Page Engagement (USD)</th>\n",
              "      <th>Ad</th>\n",
              "      <th>Cyber Weekend</th>\n",
              "      <th>Nanigans</th>\n",
              "      <th>Post: You need to get some real sun and we are here to</th>\n",
              "      <th>SimpleMultiFillCampaign</th>\n",
              "      <th>TravelPony: Conversion Test</th>\n",
              "      <th>TravelPony: General Ads</th>\n",
              "      <th>TravelponyPage LikesUS</th>\n",
              "      <th>http:travelponyClicksUS</th>\n",
              "    </tr>\n",
              "  </thead>\n",
              "  <tbody>\n",
              "    <tr>\n",
              "      <th>0</th>\n",
              "      <td>2013-12-02</td>\n",
              "      <td>2013-12-02</td>\n",
              "      <td>Bob Jackson</td>\n",
              "      <td>Cyber Weekend</td>\n",
              "      <td>278117</td>\n",
              "      <td>2.314303</td>\n",
              "      <td>643647</td>\n",
              "      <td>336</td>\n",
              "      <td>313</td>\n",
              "      <td>300.00</td>\n",
              "      <td>3</td>\n",
              "      <td>246</td>\n",
              "      <td>243</td>\n",
              "      <td>0</td>\n",
              "      <td>0</td>\n",
              "      <td>0</td>\n",
              "      <td>0</td>\n",
              "      <td>243</td>\n",
              "      <td>100.00</td>\n",
              "      <td>1.219512</td>\n",
              "      <td>0</td>\n",
              "      <td>1</td>\n",
              "      <td>0</td>\n",
              "      <td>0</td>\n",
              "      <td>0</td>\n",
              "      <td>0</td>\n",
              "      <td>0</td>\n",
              "      <td>0</td>\n",
              "      <td>0</td>\n",
              "    </tr>\n",
              "    <tr>\n",
              "      <th>1</th>\n",
              "      <td>2013-12-01</td>\n",
              "      <td>2013-12-01</td>\n",
              "      <td>Bob Jackson</td>\n",
              "      <td>Cyber Weekend</td>\n",
              "      <td>221255</td>\n",
              "      <td>2.079090</td>\n",
              "      <td>460009</td>\n",
              "      <td>376</td>\n",
              "      <td>348</td>\n",
              "      <td>300.00</td>\n",
              "      <td>6</td>\n",
              "      <td>215</td>\n",
              "      <td>209</td>\n",
              "      <td>0</td>\n",
              "      <td>0</td>\n",
              "      <td>0</td>\n",
              "      <td>0</td>\n",
              "      <td>209</td>\n",
              "      <td>50.00</td>\n",
              "      <td>1.395349</td>\n",
              "      <td>0</td>\n",
              "      <td>1</td>\n",
              "      <td>0</td>\n",
              "      <td>0</td>\n",
              "      <td>0</td>\n",
              "      <td>0</td>\n",
              "      <td>0</td>\n",
              "      <td>0</td>\n",
              "      <td>0</td>\n",
              "    </tr>\n",
              "    <tr>\n",
              "      <th>2</th>\n",
              "      <td>2013-11-30</td>\n",
              "      <td>2013-11-30</td>\n",
              "      <td>Bob Jackson</td>\n",
              "      <td>Cyber Weekend</td>\n",
              "      <td>267915</td>\n",
              "      <td>2.499069</td>\n",
              "      <td>669538</td>\n",
              "      <td>383</td>\n",
              "      <td>345</td>\n",
              "      <td>300.00</td>\n",
              "      <td>2</td>\n",
              "      <td>252</td>\n",
              "      <td>250</td>\n",
              "      <td>0</td>\n",
              "      <td>0</td>\n",
              "      <td>0</td>\n",
              "      <td>0</td>\n",
              "      <td>250</td>\n",
              "      <td>150.00</td>\n",
              "      <td>1.190476</td>\n",
              "      <td>0</td>\n",
              "      <td>1</td>\n",
              "      <td>0</td>\n",
              "      <td>0</td>\n",
              "      <td>0</td>\n",
              "      <td>0</td>\n",
              "      <td>0</td>\n",
              "      <td>0</td>\n",
              "      <td>0</td>\n",
              "    </tr>\n",
              "    <tr>\n",
              "      <th>3</th>\n",
              "      <td>2013-11-29</td>\n",
              "      <td>2013-11-29</td>\n",
              "      <td>Bob Jackson</td>\n",
              "      <td>Cyber Weekend</td>\n",
              "      <td>280332</td>\n",
              "      <td>2.365406</td>\n",
              "      <td>663099</td>\n",
              "      <td>301</td>\n",
              "      <td>275</td>\n",
              "      <td>300.00</td>\n",
              "      <td>3</td>\n",
              "      <td>257</td>\n",
              "      <td>254</td>\n",
              "      <td>0</td>\n",
              "      <td>0</td>\n",
              "      <td>0</td>\n",
              "      <td>0</td>\n",
              "      <td>254</td>\n",
              "      <td>100.00</td>\n",
              "      <td>1.167315</td>\n",
              "      <td>0</td>\n",
              "      <td>1</td>\n",
              "      <td>0</td>\n",
              "      <td>0</td>\n",
              "      <td>0</td>\n",
              "      <td>0</td>\n",
              "      <td>0</td>\n",
              "      <td>0</td>\n",
              "      <td>0</td>\n",
              "    </tr>\n",
              "    <tr>\n",
              "      <th>4</th>\n",
              "      <td>2013-11-22</td>\n",
              "      <td>2013-11-22</td>\n",
              "      <td>Bob Jackson</td>\n",
              "      <td>TravelPony: General Ads</td>\n",
              "      <td>14269</td>\n",
              "      <td>1.000420</td>\n",
              "      <td>14275</td>\n",
              "      <td>64</td>\n",
              "      <td>61</td>\n",
              "      <td>35.18</td>\n",
              "      <td>2</td>\n",
              "      <td>14</td>\n",
              "      <td>12</td>\n",
              "      <td>0</td>\n",
              "      <td>0</td>\n",
              "      <td>0</td>\n",
              "      <td>0</td>\n",
              "      <td>12</td>\n",
              "      <td>17.59</td>\n",
              "      <td>2.512857</td>\n",
              "      <td>0</td>\n",
              "      <td>0</td>\n",
              "      <td>0</td>\n",
              "      <td>0</td>\n",
              "      <td>0</td>\n",
              "      <td>0</td>\n",
              "      <td>1</td>\n",
              "      <td>0</td>\n",
              "      <td>0</td>\n",
              "    </tr>\n",
              "  </tbody>\n",
              "</table>\n",
              "</div>"
            ],
            "text/plain": [
              "   Start Date    End Date  ... TravelponyPage LikesUS http:travelponyClicksUS\n",
              "0  2013-12-02  2013-12-02  ...                      0                       0\n",
              "1  2013-12-01  2013-12-01  ...                      0                       0\n",
              "2  2013-11-30  2013-11-30  ...                      0                       0\n",
              "3  2013-11-29  2013-11-29  ...                      0                       0\n",
              "4  2013-11-22  2013-11-22  ...                      0                       0\n",
              "\n",
              "[5 rows x 29 columns]"
            ]
          },
          "metadata": {
            "tags": []
          },
          "execution_count": 99
        }
      ]
    },
    {
      "cell_type": "code",
      "metadata": {
        "id": "TL8DAaCxe1pV",
        "colab_type": "code",
        "colab": {}
      },
      "source": [
        "# Looking at and changing the column names to be simpler to work with\n",
        "travelpony.columns\n",
        "travelpony.columns = ['Start Date', 'End Date', 'Account', 'Campaign Name', 'Reach',\n",
        "       'Frequency', 'Impressions', 'Clicks', 'Unique Clicks',\n",
        "       'Amount Spent (USD)', 'Page Likes', 'Page Engagement',\n",
        "       'Post Engagement', 'Post Likes', 'Post Comments', 'Post Shares',\n",
        "       'Photo Views', 'Website Clicks', 'Cost per Page Like (USD)',\n",
        "       'Cost per Page Engagement (USD)', 'Ad', 'Cyber Weekend', 'Nanigans',\n",
        "       'Post',\n",
        "       'SimpleMultiFillCampaign', 'Conversion Test',\n",
        "       'General Ads', 'TravelponyPageLikes',\n",
        "       'Travelpony Clicks']"
      ],
      "execution_count": 0,
      "outputs": []
    },
    {
      "cell_type": "markdown",
      "metadata": {
        "id": "WOT5Jbyug4uY",
        "colab_type": "text"
      },
      "source": [
        "Setting up the regression and looking at the summary of the fit model. "
      ]
    },
    {
      "cell_type": "code",
      "metadata": {
        "id": "gegHEAIAR0-N",
        "colab_type": "code",
        "outputId": "314cd2ec-3ee6-40f7-9f69-7eeda7bb2e4a",
        "colab": {
          "base_uri": "https://localhost:8080/",
          "height": 898
        }
      },
      "source": [
        "target = travelpony['Amount Spent (USD)']\n",
        "dep = travelpony[['Cyber Weekend', 'Ad', 'Nanigans' , 'Post', 'SimpleMultiFillCampaign', 'Conversion Test', 'General Ads', 'TravelponyPageLikes', 'Travelpony Clicks' ,'Reach','Frequency','Impressions','Clicks','Unique Clicks','Page Likes','Page Engagement','Post Engagement','Post Likes','Post Comments','Post Shares','Photo Views','Website Clicks']]\n",
        "model = sm.OLS(target, dep).fit()\n",
        "predictions = model.predict(dep)\n",
        "model.summary()"
      ],
      "execution_count": 0,
      "outputs": [
        {
          "output_type": "execute_result",
          "data": {
            "text/html": [
              "<table class=\"simpletable\">\n",
              "<caption>OLS Regression Results</caption>\n",
              "<tr>\n",
              "  <th>Dep. Variable:</th>    <td>Amount Spent (USD)</td> <th>  R-squared:         </th> <td>   0.935</td> \n",
              "</tr>\n",
              "<tr>\n",
              "  <th>Model:</th>                    <td>OLS</td>        <th>  Adj. R-squared:    </th> <td>   0.934</td> \n",
              "</tr>\n",
              "<tr>\n",
              "  <th>Method:</th>              <td>Least Squares</td>   <th>  F-statistic:       </th> <td>   1282.</td> \n",
              "</tr>\n",
              "<tr>\n",
              "  <th>Date:</th>              <td>Mon, 18 Nov 2019</td>  <th>  Prob (F-statistic):</th>  <td>  0.00</td>  \n",
              "</tr>\n",
              "<tr>\n",
              "  <th>Time:</th>                  <td>21:49:56</td>      <th>  Log-Likelihood:    </th> <td> -6484.6</td> \n",
              "</tr>\n",
              "<tr>\n",
              "  <th>No. Observations:</th>       <td>  1802</td>       <th>  AIC:               </th> <td>1.301e+04</td>\n",
              "</tr>\n",
              "<tr>\n",
              "  <th>Df Residuals:</th>           <td>  1781</td>       <th>  BIC:               </th> <td>1.313e+04</td>\n",
              "</tr>\n",
              "<tr>\n",
              "  <th>Df Model:</th>               <td>    20</td>       <th>                     </th>     <td> </td>    \n",
              "</tr>\n",
              "<tr>\n",
              "  <th>Covariance Type:</th>       <td>nonrobust</td>     <th>                     </th>     <td> </td>    \n",
              "</tr>\n",
              "</table>\n",
              "<table class=\"simpletable\">\n",
              "<tr>\n",
              "             <td></td>                <th>coef</th>     <th>std err</th>      <th>t</th>      <th>P>|t|</th>  <th>[0.025</th>    <th>0.975]</th>  \n",
              "</tr>\n",
              "<tr>\n",
              "  <th>Cyber Weekend</th>           <td> -210.0978</td> <td>   26.172</td> <td>   -8.028</td> <td> 0.000</td> <td> -261.429</td> <td> -158.766</td>\n",
              "</tr>\n",
              "<tr>\n",
              "  <th>Ad</th>                      <td>   -8.7199</td> <td>    4.648</td> <td>   -1.876</td> <td> 0.061</td> <td>  -17.836</td> <td>    0.396</td>\n",
              "</tr>\n",
              "<tr>\n",
              "  <th>Nanigans</th>                <td>  -11.1471</td> <td>    3.438</td> <td>   -3.242</td> <td> 0.001</td> <td>  -17.891</td> <td>   -4.403</td>\n",
              "</tr>\n",
              "<tr>\n",
              "  <th>Post</th>                    <td>  -25.4838</td> <td>    7.772</td> <td>   -3.279</td> <td> 0.001</td> <td>  -40.726</td> <td>  -10.241</td>\n",
              "</tr>\n",
              "<tr>\n",
              "  <th>SimpleMultiFillCampaign</th> <td>   -8.8824</td> <td>    3.374</td> <td>   -2.632</td> <td> 0.009</td> <td>  -15.500</td> <td>   -2.265</td>\n",
              "</tr>\n",
              "<tr>\n",
              "  <th>Conversion Test</th>         <td>   45.4009</td> <td>    5.816</td> <td>    7.806</td> <td> 0.000</td> <td>   33.993</td> <td>   56.808</td>\n",
              "</tr>\n",
              "<tr>\n",
              "  <th>General Ads</th>             <td>  -34.0630</td> <td>    6.690</td> <td>   -5.091</td> <td> 0.000</td> <td>  -47.185</td> <td>  -20.941</td>\n",
              "</tr>\n",
              "<tr>\n",
              "  <th>TravelponyPageLikes</th>     <td>  -15.2335</td> <td>    5.554</td> <td>   -2.743</td> <td> 0.006</td> <td>  -26.127</td> <td>   -4.340</td>\n",
              "</tr>\n",
              "<tr>\n",
              "  <th>Travelpony Clicks</th>       <td>  -26.2998</td> <td>   11.525</td> <td>   -2.282</td> <td> 0.023</td> <td>  -48.904</td> <td>   -3.695</td>\n",
              "</tr>\n",
              "<tr>\n",
              "  <th>Reach</th>                   <td>    0.0031</td> <td>    0.000</td> <td>   20.623</td> <td> 0.000</td> <td>    0.003</td> <td>    0.003</td>\n",
              "</tr>\n",
              "<tr>\n",
              "  <th>Frequency</th>               <td>    8.0177</td> <td>    3.337</td> <td>    2.403</td> <td> 0.016</td> <td>    1.474</td> <td>   14.562</td>\n",
              "</tr>\n",
              "<tr>\n",
              "  <th>Impressions</th>             <td>   -0.0008</td> <td> 8.08e-05</td> <td>   -9.964</td> <td> 0.000</td> <td>   -0.001</td> <td>   -0.001</td>\n",
              "</tr>\n",
              "<tr>\n",
              "  <th>Clicks</th>                  <td>   -0.3369</td> <td>    0.110</td> <td>   -3.073</td> <td> 0.002</td> <td>   -0.552</td> <td>   -0.122</td>\n",
              "</tr>\n",
              "<tr>\n",
              "  <th>Unique Clicks</th>           <td>    0.5557</td> <td>    0.122</td> <td>    4.569</td> <td> 0.000</td> <td>    0.317</td> <td>    0.794</td>\n",
              "</tr>\n",
              "<tr>\n",
              "  <th>Page Likes</th>              <td>   23.2839</td> <td>    8.919</td> <td>    2.611</td> <td> 0.009</td> <td>    5.791</td> <td>   40.777</td>\n",
              "</tr>\n",
              "<tr>\n",
              "  <th>Page Engagement</th>         <td>  -20.1012</td> <td>    8.916</td> <td>   -2.255</td> <td> 0.024</td> <td>  -37.588</td> <td>   -2.615</td>\n",
              "</tr>\n",
              "<tr>\n",
              "  <th>Post Engagement</th>         <td>   17.1443</td> <td>    7.431</td> <td>    2.307</td> <td> 0.021</td> <td>    2.571</td> <td>   31.718</td>\n",
              "</tr>\n",
              "<tr>\n",
              "  <th>Post Likes</th>              <td>    2.3301</td> <td>    1.491</td> <td>    1.563</td> <td> 0.118</td> <td>   -0.594</td> <td>    5.254</td>\n",
              "</tr>\n",
              "<tr>\n",
              "  <th>Post Comments</th>           <td>    3.5094</td> <td>    1.551</td> <td>    2.263</td> <td> 0.024</td> <td>    0.468</td> <td>    6.551</td>\n",
              "</tr>\n",
              "<tr>\n",
              "  <th>Post Shares</th>             <td>    4.8389</td> <td>    1.513</td> <td>    3.198</td> <td> 0.001</td> <td>    1.871</td> <td>    7.807</td>\n",
              "</tr>\n",
              "<tr>\n",
              "  <th>Photo Views</th>             <td>    3.1375</td> <td>    1.489</td> <td>    2.107</td> <td> 0.035</td> <td>    0.217</td> <td>    6.058</td>\n",
              "</tr>\n",
              "<tr>\n",
              "  <th>Website Clicks</th>          <td>    3.3284</td> <td>    1.489</td> <td>    2.235</td> <td> 0.026</td> <td>    0.408</td> <td>    6.249</td>\n",
              "</tr>\n",
              "</table>\n",
              "<table class=\"simpletable\">\n",
              "<tr>\n",
              "  <th>Omnibus:</th>       <td>734.641</td> <th>  Durbin-Watson:     </th> <td>   1.690</td> \n",
              "</tr>\n",
              "<tr>\n",
              "  <th>Prob(Omnibus):</th> <td> 0.000</td>  <th>  Jarque-Bera (JB):  </th> <td>20578.497</td>\n",
              "</tr>\n",
              "<tr>\n",
              "  <th>Skew:</th>          <td> 1.310</td>  <th>  Prob(JB):          </th> <td>    0.00</td> \n",
              "</tr>\n",
              "<tr>\n",
              "  <th>Kurtosis:</th>      <td>19.347</td>  <th>  Cond. No.          </th> <td>3.41e+18</td> \n",
              "</tr>\n",
              "</table><br/><br/>Warnings:<br/>[1] Standard Errors assume that the covariance matrix of the errors is correctly specified.<br/>[2] The smallest eigenvalue is 1.66e-25. This might indicate that there are<br/>strong multicollinearity problems or that the design matrix is singular."
            ],
            "text/plain": [
              "<class 'statsmodels.iolib.summary.Summary'>\n",
              "\"\"\"\n",
              "                            OLS Regression Results                            \n",
              "==============================================================================\n",
              "Dep. Variable:     Amount Spent (USD)   R-squared:                       0.935\n",
              "Model:                            OLS   Adj. R-squared:                  0.934\n",
              "Method:                 Least Squares   F-statistic:                     1282.\n",
              "Date:                Mon, 18 Nov 2019   Prob (F-statistic):               0.00\n",
              "Time:                        21:49:56   Log-Likelihood:                -6484.6\n",
              "No. Observations:                1802   AIC:                         1.301e+04\n",
              "Df Residuals:                    1781   BIC:                         1.313e+04\n",
              "Df Model:                          20                                         \n",
              "Covariance Type:            nonrobust                                         \n",
              "===========================================================================================\n",
              "                              coef    std err          t      P>|t|      [0.025      0.975]\n",
              "-------------------------------------------------------------------------------------------\n",
              "Cyber Weekend            -210.0978     26.172     -8.028      0.000    -261.429    -158.766\n",
              "Ad                         -8.7199      4.648     -1.876      0.061     -17.836       0.396\n",
              "Nanigans                  -11.1471      3.438     -3.242      0.001     -17.891      -4.403\n",
              "Post                      -25.4838      7.772     -3.279      0.001     -40.726     -10.241\n",
              "SimpleMultiFillCampaign    -8.8824      3.374     -2.632      0.009     -15.500      -2.265\n",
              "Conversion Test            45.4009      5.816      7.806      0.000      33.993      56.808\n",
              "General Ads               -34.0630      6.690     -5.091      0.000     -47.185     -20.941\n",
              "TravelponyPageLikes       -15.2335      5.554     -2.743      0.006     -26.127      -4.340\n",
              "Travelpony Clicks         -26.2998     11.525     -2.282      0.023     -48.904      -3.695\n",
              "Reach                       0.0031      0.000     20.623      0.000       0.003       0.003\n",
              "Frequency                   8.0177      3.337      2.403      0.016       1.474      14.562\n",
              "Impressions                -0.0008   8.08e-05     -9.964      0.000      -0.001      -0.001\n",
              "Clicks                     -0.3369      0.110     -3.073      0.002      -0.552      -0.122\n",
              "Unique Clicks               0.5557      0.122      4.569      0.000       0.317       0.794\n",
              "Page Likes                 23.2839      8.919      2.611      0.009       5.791      40.777\n",
              "Page Engagement           -20.1012      8.916     -2.255      0.024     -37.588      -2.615\n",
              "Post Engagement            17.1443      7.431      2.307      0.021       2.571      31.718\n",
              "Post Likes                  2.3301      1.491      1.563      0.118      -0.594       5.254\n",
              "Post Comments               3.5094      1.551      2.263      0.024       0.468       6.551\n",
              "Post Shares                 4.8389      1.513      3.198      0.001       1.871       7.807\n",
              "Photo Views                 3.1375      1.489      2.107      0.035       0.217       6.058\n",
              "Website Clicks              3.3284      1.489      2.235      0.026       0.408       6.249\n",
              "==============================================================================\n",
              "Omnibus:                      734.641   Durbin-Watson:                   1.690\n",
              "Prob(Omnibus):                  0.000   Jarque-Bera (JB):            20578.497\n",
              "Skew:                           1.310   Prob(JB):                         0.00\n",
              "Kurtosis:                      19.347   Cond. No.                     3.41e+18\n",
              "==============================================================================\n",
              "\n",
              "Warnings:\n",
              "[1] Standard Errors assume that the covariance matrix of the errors is correctly specified.\n",
              "[2] The smallest eigenvalue is 1.66e-25. This might indicate that there are\n",
              "strong multicollinearity problems or that the design matrix is singular.\n",
              "\"\"\""
            ]
          },
          "metadata": {
            "tags": []
          },
          "execution_count": 106
        }
      ]
    }
  ]
}